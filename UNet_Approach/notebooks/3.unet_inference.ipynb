{
 "cells": [
  {
   "cell_type": "code",
   "execution_count": 3,
   "metadata": {},
   "outputs": [],
   "source": [
    "from tensorflow import keras"
   ]
  },
  {
   "cell_type": "code",
   "execution_count": null,
   "metadata": {},
   "outputs": [],
   "source": [
    "import tensorflow as tf\n",
    "print(tf.__version__)"
   ]
  },
  {
   "cell_type": "code",
   "execution_count": null,
   "metadata": {},
   "outputs": [],
   "source": [
    "from tensorflow.keras.models import load_model\n",
    "\n",
    "# Load the trained model\n",
    "model = load_model(\"./model/unet_model.h5\")"
   ]
  },
  {
   "cell_type": "code",
   "execution_count": null,
   "metadata": {},
   "outputs": [],
   "source": [
    "import cv2\n",
    "import numpy as np\n",
    "import matplotlib.pyplot as plt"
   ]
  },
  {
   "cell_type": "code",
   "execution_count": null,
   "metadata": {},
   "outputs": [],
   "source": [
    "\n",
    "def predict_contour_save(image_path, model, output_text_file=\"../output/coordinates.txt\"):\n",
    "    # Load image\n",
    "    image = cv2.imread(image_path)\n",
    "    image = cv2.cvtColor(image, cv2.COLOR_BGR2RGB)\n",
    "    \n",
    "    # Resize image to match model input shape\n",
    "    input_size = (128, 128)  # Adjust according to your model's input size\n",
    "    resized_image = cv2.resize(image, input_size) / 255.0  # Normalize\n",
    "    \n",
    "    # Predict mask\n",
    "    pred_mask = model.predict(np.expand_dims(resized_image, axis=0))[0]\n",
    "    pred_mask = (pred_mask > 0.5).astype(np.uint8) * 255  # Binarize\n",
    "\n",
    "    # Find contours\n",
    "    contours, _ = cv2.findContours(pred_mask, cv2.RETR_EXTERNAL, cv2.CHAIN_APPROX_SIMPLE)\n",
    "    \n",
    "    # Draw contours on original image\n",
    "    contour_image = image.copy()\n",
    "    cv2.drawContours(contour_image, contours, -1, (255, 0, 0), 2)  # Green contours\n",
    "\n",
    "    # Save contour coordinates to text file\n",
    "    coordinates = []\n",
    "    for contour in contours:\n",
    "        contour_points = contour.squeeze(axis=1)  # Removing extra dimension (n,1,2) to (n,2)\n",
    "        coordinates.append(contour_points.tolist())\n",
    "\n",
    "    # Write coordinates to a file\n",
    "    with open(output_text_file, \"w\") as file:\n",
    "        for contour in coordinates:\n",
    "            #file.write(\"Contour:\\n\")\n",
    "            for point in contour:\n",
    "                file.write(f\"{point[0]},{point[1]}\\n\")\n",
    "            file.write(\"\\n\")\n",
    "\n",
    "    print(f\"Contour coordinates saved to {output_text_file}\")\n",
    "\n",
    "\n",
    "    # Show results\n",
    "    plt.figure(figsize=(12, 4))\n",
    "    plt.subplot(1, 3, 1)\n",
    "    plt.imshow(image)\n",
    "    plt.title(\"Original Image\")\n",
    "\n",
    "    plt.subplot(1, 3, 2)\n",
    "    plt.imshow(pred_mask, cmap=\"gray\")\n",
    "    plt.title(\"Predicted Mask\")\n",
    "\n",
    "    plt.subplot(1, 3, 3)\n",
    "    plt.imshow(contour_image)\n",
    "    plt.title(\"Contour Overlay\")\n",
    "\n",
    "    plt.show()"
   ]
  },
  {
   "cell_type": "code",
   "execution_count": null,
   "metadata": {},
   "outputs": [],
   "source": [
    "# Test on a new image\n",
    "predict_contour_save(\"../dataset_portion/new_image.jpg\", model)"
   ]
  },
  {
   "cell_type": "code",
   "execution_count": null,
   "metadata": {},
   "outputs": [],
   "source": [
    "# Load the image\n",
    "image = cv2.imread(\"../dataset_portion/new_image.jpg\")\n",
    "\n",
    "# Read the coordinates from the file\n",
    "contours = []\n",
    "with open(\"../output/coordinates.txt\", \"r\") as f:\n",
    "    contour = []\n",
    "    for line in f:\n",
    "        line = line.strip()\n",
    "        if line:\n",
    "            x, y = map(int, line.split(\",\"))\n",
    "            contour.append([x, y])\n",
    "        else:\n",
    "            if contour:  # If a contour exists, add it and reset\n",
    "                contours.append(np.array(contour, dtype=np.int32))\n",
    "                contour = []\n",
    "\n",
    "# Draw contours on the image\n",
    "cv2.drawContours(image, contours, -1, (255, 0, 0), 1)  # Blue color contours\n",
    "\n",
    "# Save or display the result\n",
    "plt.imshow(cv2.cvtColor(image, cv2.COLOR_BGR2RGB))\n",
    "#cv2.imwrite(\"output/image_with_contours.jpg\", image)\n",
    "plt.title(\"Loaded Pool Contours\")\n",
    "plt.show()"
   ]
  }
 ],
 "metadata": {
  "kernelspec": {
   "display_name": "base",
   "language": "python",
   "name": "python3"
  },
  "language_info": {
   "codemirror_mode": {
    "name": "ipython",
    "version": 3
   },
   "file_extension": ".py",
   "mimetype": "text/x-python",
   "name": "python",
   "nbconvert_exporter": "python",
   "pygments_lexer": "ipython3",
   "version": "3.9.13"
  }
 },
 "nbformat": 4,
 "nbformat_minor": 2
}
