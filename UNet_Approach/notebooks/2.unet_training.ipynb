{
 "cells": [
  {
   "cell_type": "markdown",
   "metadata": {},
   "source": [
    "**🛠️ Steps to Train U-Net for Pool Segmentation**\n",
    "\n",
    "1️⃣ Prepare Data (Images & Masks)\n",
    "\n",
    "2️⃣ Preprocess Data (Resize, Normalize, Augment)\n",
    "\n",
    "3️⃣ Define U-Net Model\n",
    "\n",
    "4️⃣ Train U-Net Model\n",
    "\n",
    "5️⃣ Evaluate & Test"
   ]
  },
  {
   "cell_type": "markdown",
   "metadata": {},
   "source": [
    "##  Step 2: Data Preprocessing"
   ]
  },
  {
   "cell_type": "code",
   "execution_count": 1,
   "metadata": {},
   "outputs": [],
   "source": [
    "import os\n",
    "import numpy as np\n",
    "import cv2\n",
    "import tensorflow as tf\n",
    "from tensorflow.keras.preprocessing.image import load_img, img_to_array\n",
    "from sklearn.model_selection import train_test_split\n",
    "import matplotlib.pyplot as plt"
   ]
  },
  {
   "cell_type": "code",
   "execution_count": 3,
   "metadata": {},
   "outputs": [],
   "source": [
    "# Paths\n",
    "IMAGE_DIR = \"../dataset_portion/images/\"\n",
    "MASK_DIR = \"../dataset_portion/masks/\"\n",
    "\n",
    "# Load images and masks\n",
    "image_files = sorted(os.listdir(IMAGE_DIR))\n",
    "mask_files = sorted(os.listdir(MASK_DIR))\n",
    "\n",
    "# Image size for U-Net (resize all images)\n",
    "IMG_SIZE = 512"
   ]
  },
  {
   "cell_type": "code",
   "execution_count": 4,
   "metadata": {},
   "outputs": [
    {
     "name": "stdout",
     "output_type": "stream",
     "text": [
      "✅ Data Loaded! Training images: (52, 512, 512, 3) Training masks: (52, 512, 512, 1)\n"
     ]
    }
   ],
   "source": [
    "def preprocess_image(img_path):\n",
    "    img = load_img(img_path, target_size=(IMG_SIZE, IMG_SIZE))  # Resize\n",
    "    img = img_to_array(img) / 255.0  # Normalize (0-1)\n",
    "    return img\n",
    "\n",
    "def preprocess_mask(mask_path):\n",
    "    mask = load_img(mask_path, target_size=(IMG_SIZE, IMG_SIZE), color_mode=\"grayscale\")\n",
    "    mask = img_to_array(mask) / 255.0  # Normalize (0-1)\n",
    "    mask = np.where(mask > 0.5, 1, 0)  # Binarize (0 or 1)\n",
    "    return mask\n",
    "\n",
    "# Load dataset\n",
    "X = np.array([preprocess_image(os.path.join(IMAGE_DIR, f)) for f in image_files])\n",
    "Y = np.array([preprocess_mask(os.path.join(MASK_DIR, f)) for f in mask_files])\n",
    "\n",
    "# Split into training and validation sets\n",
    "X_train, X_val, Y_train, Y_val = train_test_split(X, Y, test_size=0.2, random_state=42)\n",
    "\n",
    "print(\"✅ Data Loaded! Training images:\", X_train.shape, \"Training masks:\", Y_train.shape)\n"
   ]
  },
  {
   "cell_type": "markdown",
   "metadata": {},
   "source": [
    "## Step 3: Define U-Net Model"
   ]
  },
  {
   "cell_type": "code",
   "execution_count": 5,
   "metadata": {},
   "outputs": [],
   "source": [
    "from tensorflow.keras.layers import Conv2D, MaxPooling2D, Conv2DTranspose, concatenate, Input\n",
    "from tensorflow.keras.models import Model"
   ]
  },
  {
   "cell_type": "code",
   "execution_count": 6,
   "metadata": {},
   "outputs": [
    {
     "name": "stdout",
     "output_type": "stream",
     "text": [
      "✅ U-Net Model Ready!\n"
     ]
    }
   ],
   "source": [
    "def unet_model(input_size=(IMG_SIZE, IMG_SIZE, 3)):\n",
    "    inputs = Input(input_size)\n",
    "\n",
    "    # Encoder (Downsampling)\n",
    "    c1 = Conv2D(64, (3, 3), activation='relu', padding='same')(inputs)\n",
    "    c1 = Conv2D(64, (3, 3), activation='relu', padding='same')(c1)\n",
    "    p1 = MaxPooling2D((2, 2))(c1)\n",
    "\n",
    "    c2 = Conv2D(128, (3, 3), activation='relu', padding='same')(p1)\n",
    "    c2 = Conv2D(128, (3, 3), activation='relu', padding='same')(c2)\n",
    "    p2 = MaxPooling2D((2, 2))(c2)\n",
    "\n",
    "    c3 = Conv2D(256, (3, 3), activation='relu', padding='same')(p2)\n",
    "    c3 = Conv2D(256, (3, 3), activation='relu', padding='same')(c3)\n",
    "    p3 = MaxPooling2D((2, 2))(c3)\n",
    "\n",
    "    # Bottleneck\n",
    "    c4 = Conv2D(512, (3, 3), activation='relu', padding='same')(p3)\n",
    "    c4 = Conv2D(512, (3, 3), activation='relu', padding='same')(c4)\n",
    "\n",
    "    # Decoder (Upsampling)\n",
    "    u5 = Conv2DTranspose(256, (2, 2), strides=(2, 2), padding='same')(c4)\n",
    "    u5 = concatenate([u5, c3])\n",
    "    c5 = Conv2D(256, (3, 3), activation='relu', padding='same')(u5)\n",
    "    c5 = Conv2D(256, (3, 3), activation='relu', padding='same')(c5)\n",
    "\n",
    "    u6 = Conv2DTranspose(128, (2, 2), strides=(2, 2), padding='same')(c5)\n",
    "    u6 = concatenate([u6, c2])\n",
    "    c6 = Conv2D(128, (3, 3), activation='relu', padding='same')(u6)\n",
    "    c6 = Conv2D(128, (3, 3), activation='relu', padding='same')(c6)\n",
    "\n",
    "    u7 = Conv2DTranspose(64, (2, 2), strides=(2, 2), padding='same')(c6)\n",
    "    u7 = concatenate([u7, c1])\n",
    "    c7 = Conv2D(64, (3, 3), activation='relu', padding='same')(u7)\n",
    "    c7 = Conv2D(64, (3, 3), activation='relu', padding='same')(c7)\n",
    "\n",
    "    outputs = Conv2D(1, (1, 1), activation='sigmoid')(c7)  # Binary mask output\n",
    "\n",
    "    model = Model(inputs, outputs)\n",
    "    return model\n",
    "\n",
    "# Compile model\n",
    "model = unet_model()\n",
    "model.compile(optimizer='adam', loss='binary_crossentropy', metrics=['accuracy'])\n",
    "\n",
    "print(\"✅ U-Net Model Ready!\")\n"
   ]
  },
  {
   "cell_type": "markdown",
   "metadata": {},
   "source": [
    "##  Step 4: Train the Model"
   ]
  },
  {
   "cell_type": "code",
   "execution_count": null,
   "metadata": {},
   "outputs": [
    {
     "name": "stdout",
     "output_type": "stream",
     "text": [
      "Epoch 1/11\n",
      " 2/13 [===>..........................] - ETA: 16:41 - loss: 0.6123 - accuracy: 0.9892"
     ]
    }
   ],
   "source": [
    "# Train the model\n",
    "history = model.fit(\n",
    "    X_train, Y_train,\n",
    "    validation_data=(X_val, Y_val),\n",
    "    epochs=11, #30\n",
    "    batch_size=4, #8\n",
    "    verbose=1\n",
    ")\n"
   ]
  },
  {
   "cell_type": "markdown",
   "metadata": {},
   "source": [
    "## Step 5: Evaluate & Test"
   ]
  },
  {
   "cell_type": "code",
   "execution_count": null,
   "metadata": {},
   "outputs": [],
   "source": [
    "# Test on a sample image\n",
    "test_idx = 0\n",
    "test_image = X_val[test_idx]\n",
    "test_mask = Y_val[test_idx]"
   ]
  },
  {
   "cell_type": "code",
   "execution_count": null,
   "metadata": {},
   "outputs": [],
   "source": [
    "# Predict mask\n",
    "pred_mask = model.predict(np.expand_dims(test_image, axis=0))[0]\n",
    "pred_mask = (pred_mask > 0.5).astype(np.uint8)  # Binarize output"
   ]
  },
  {
   "cell_type": "code",
   "execution_count": null,
   "metadata": {},
   "outputs": [],
   "source": [
    "# Display results\n",
    "plt.figure(figsize=(12, 4))\n",
    "\n",
    "plt.subplot(1, 3, 1)\n",
    "plt.imshow(test_image)\n",
    "plt.title(\"Original Image\")\n",
    "\n",
    "plt.subplot(1, 3, 2)\n",
    "plt.imshow(test_mask, cmap=\"gray\")\n",
    "plt.title(\"Ground Truth Mask\")\n",
    "\n",
    "plt.subplot(1, 3, 3)\n",
    "plt.imshow(pred_mask, cmap=\"gray\")\n",
    "plt.title(\"Predicted Mask\")\n",
    "\n",
    "plt.show()"
   ]
  },
  {
   "cell_type": "code",
   "execution_count": null,
   "metadata": {},
   "outputs": [],
   "source": [
    "# Save the model in HDF5 format\n",
    "model.save(\"unet_model.h5\")\n",
    "print(\"✅ Model saved as 'unet_model.h5'!\")"
   ]
  },
  {
   "cell_type": "markdown",
   "metadata": {},
   "source": [
    "# **🛠️ Steps to Overlay Contour on Image**\n",
    "1️⃣ Convert predicted mask into a binary image\n",
    "\n",
    "2️⃣ Use cv2.findContours to detect edges\n",
    "\n",
    "3️⃣ Draw contours using cv2.drawContours on the original image\n",
    "\n",
    "4️⃣ Display the final result"
   ]
  },
  {
   "cell_type": "markdown",
   "metadata": {},
   "source": [
    "🔹  Draw Contour on Image\n"
   ]
  },
  {
   "cell_type": "code",
   "execution_count": null,
   "metadata": {},
   "outputs": [],
   "source": [
    "# Find contours in the predicted mask\n",
    "contours, _ = cv2.findContours(pred_mask, cv2.RETR_EXTERNAL, cv2.CHAIN_APPROX_SIMPLE)\n",
    "\n",
    "# Draw contours on the original image (green color, thickness 2)\n",
    "contour_image = test_image.copy()\n",
    "cv2.drawContours(contour_image, contours, -1, (0, 255, 0), 1)  # Green contours\n",
    "\n",
    "# Display Results\n",
    "plt.figure(figsize=(12, 4))\n",
    "\n",
    "plt.subplot(1, 3, 1)\n",
    "plt.imshow(test_image)\n",
    "plt.title(\"Original Image\")\n",
    "\n",
    "plt.subplot(1, 3, 2)\n",
    "plt.imshow(pred_mask, cmap=\"gray\")\n",
    "plt.title(\"Predicted Mask\")\n",
    "\n",
    "plt.subplot(1, 3, 3)\n",
    "plt.imshow(contour_image)\n",
    "plt.title(\"Contour Overlay\")\n",
    "\n",
    "plt.show()\n"
   ]
  }
 ],
 "metadata": {
  "kernelspec": {
   "display_name": "base",
   "language": "python",
   "name": "python3"
  },
  "language_info": {
   "codemirror_mode": {
    "name": "ipython",
    "version": 3
   },
   "file_extension": ".py",
   "mimetype": "text/x-python",
   "name": "python",
   "nbconvert_exporter": "python",
   "pygments_lexer": "ipython3",
   "version": "3.9.13"
  }
 },
 "nbformat": 4,
 "nbformat_minor": 2
}
